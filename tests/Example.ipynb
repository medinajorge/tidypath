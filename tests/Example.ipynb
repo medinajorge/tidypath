{
 "cells": [
  {
   "cell_type": "code",
   "execution_count": 1,
   "id": "11aad4dc",
   "metadata": {},
   "outputs": [
    {
     "name": "stdout",
     "output_type": "stream",
     "text": [
      "Looking in indexes: https://test.pypi.org/simple/\n",
      "Requirement already satisfied: tidypath in /home/jorgemedina/anaconda3/envs/latest/lib/python3.10/site-packages (1.0.9)\n",
      "Requirement already satisfied: pandas in /home/jorgemedina/anaconda3/envs/latest/lib/python3.10/site-packages (from tidypath) (1.4.3)\n",
      "Requirement already satisfied: numpy in /home/jorgemedina/anaconda3/envs/latest/lib/python3.10/site-packages (from tidypath) (1.21.5)\n",
      "Requirement already satisfied: python-dateutil>=2.8.1 in /home/jorgemedina/anaconda3/envs/latest/lib/python3.10/site-packages (from pandas->tidypath) (2.8.2)\n",
      "Requirement already satisfied: pytz>=2020.1 in /home/jorgemedina/anaconda3/envs/latest/lib/python3.10/site-packages (from pandas->tidypath) (2022.1)\n",
      "Requirement already satisfied: six>=1.5 in /home/jorgemedina/anaconda3/envs/latest/lib/python3.10/site-packages (from python-dateutil>=2.8.1->pandas->tidypath) (1.16.0)\n",
      "Note: you may need to restart the kernel to use updated packages.\n"
     ]
    }
   ],
   "source": [
    "%pip install -i https://test.pypi.org/simple/ tidypath -U"
   ]
  },
  {
   "cell_type": "code",
   "execution_count": 6,
   "id": "224efa29",
   "metadata": {},
   "outputs": [
    {
     "ename": "IndexError",
     "evalue": "tuple index out of range",
     "output_type": "error",
     "traceback": [
      "\u001b[0;31m---------------------------------------------------------------------------\u001b[0m",
      "\u001b[0;31mIndexError\u001b[0m                                Traceback (most recent call last)",
      "Input \u001b[0;32mIn [6]\u001b[0m, in \u001b[0;36m<cell line: 1>\u001b[0;34m()\u001b[0m\n\u001b[1;32m      1\u001b[0m \u001b[38;5;129;43m@savedata\u001b[39;49m\n\u001b[0;32m----> 2\u001b[0m \u001b[38;5;28;43;01mdef\u001b[39;49;00m\u001b[43m \u001b[49m\u001b[38;5;21;43mex\u001b[39;49m\u001b[43m(\u001b[49m\u001b[43m)\u001b[49m\u001b[43m:\u001b[49m\n\u001b[1;32m      3\u001b[0m \u001b[43m    \u001b[49m\u001b[38;5;28;43;01mreturn\u001b[39;49;00m\u001b[43m \u001b[49m\u001b[38;5;241;43m2\u001b[39;49m\n",
      "File \u001b[0;32m~/anaconda3/envs/latest/lib/python3.10/site-packages/tidypath/decorators.py:95\u001b[0m, in \u001b[0;36msavedata\u001b[0;34m(keys_or_function, ext, include_classes, overwrite, save, keys, load_opts_default_save, load_opts, **save_opts)\u001b[0m\n\u001b[1;32m     93\u001b[0m     \u001b[38;5;28;01mreturn\u001b[39;00m _savedata\n\u001b[1;32m     94\u001b[0m \u001b[38;5;28;01melse\u001b[39;00m:\n\u001b[0;32m---> 95\u001b[0m     \u001b[38;5;28;01mreturn\u001b[39;00m \u001b[43m_savedata\u001b[49m\u001b[43m(\u001b[49m\u001b[43mfunc\u001b[49m\u001b[43m)\u001b[49m\n",
      "File \u001b[0;32m~/anaconda3/envs/latest/lib/python3.10/site-packages/tidypath/decorators.py:88\u001b[0m, in \u001b[0;36msavedata.<locals>._savedata\u001b[0;34m(func)\u001b[0m\n\u001b[1;32m     85\u001b[0m         \u001b[38;5;28mgetattr\u001b[39m(storage, \u001b[38;5;124mf\u001b[39m\u001b[38;5;124m\"\u001b[39m\u001b[38;5;124msave_\u001b[39m\u001b[38;5;132;01m{\u001b[39;00mext\u001b[38;5;132;01m}\u001b[39;00m\u001b[38;5;124m\"\u001b[39m)(result, saving_path, \u001b[38;5;241m*\u001b[39m\u001b[38;5;241m*\u001b[39msave_opts)\n\u001b[1;32m     86\u001b[0m         \u001b[38;5;28;01mreturn\u001b[39;00m result\n\u001b[0;32m---> 88\u001b[0m wrapper\u001b[38;5;241m.\u001b[39m__signature__ \u001b[38;5;241m=\u001b[39m \u001b[43mmerge_wrapper_signatures\u001b[49m\u001b[43m(\u001b[49m\u001b[43mwrapper\u001b[49m\u001b[43m,\u001b[49m\u001b[43m \u001b[49m\u001b[43m[\u001b[49m\u001b[38;5;124;43m\"\u001b[39;49m\u001b[38;5;124;43moverwrite\u001b[39;49m\u001b[38;5;124;43m\"\u001b[39;49m\u001b[43m,\u001b[49m\u001b[43m \u001b[49m\u001b[38;5;124;43m\"\u001b[39;49m\u001b[38;5;124;43mkeys\u001b[39;49m\u001b[38;5;124;43m\"\u001b[39;49m\u001b[43m,\u001b[49m\u001b[43m \u001b[49m\u001b[38;5;124;43m\"\u001b[39;49m\u001b[38;5;124;43msave\u001b[39;49m\u001b[38;5;124;43m\"\u001b[39;49m\u001b[43m]\u001b[49m\u001b[43m)\u001b[49m\n\u001b[1;32m     89\u001b[0m wrapper\u001b[38;5;241m.\u001b[39m__out__ \u001b[38;5;241m=\u001b[39m \u001b[38;5;124m\"\u001b[39m\u001b[38;5;124mdata\u001b[39m\u001b[38;5;124m\"\u001b[39m\n\u001b[1;32m     90\u001b[0m \u001b[38;5;28;01mreturn\u001b[39;00m wrapper\n",
      "File \u001b[0;32m~/anaconda3/envs/latest/lib/python3.10/site-packages/tidypath/inspection.py:84\u001b[0m, in \u001b[0;36mmerge_wrapper_signatures\u001b[0;34m(wrapper, wrapper_params)\u001b[0m\n\u001b[1;32m     82\u001b[0m params \u001b[38;5;241m=\u001b[39m \u001b[38;5;28mtuple\u001b[39m(sig\u001b[38;5;241m.\u001b[39mparameters\u001b[38;5;241m.\u001b[39mvalues())\n\u001b[1;32m     83\u001b[0m params_extra \u001b[38;5;241m=\u001b[39m \u001b[38;5;28mtuple\u001b[39m(p \u001b[38;5;28;01mfor\u001b[39;00m p_name, p \u001b[38;5;129;01min\u001b[39;00m sigw\u001b[38;5;241m.\u001b[39mparameters\u001b[38;5;241m.\u001b[39mitems() \u001b[38;5;28;01mif\u001b[39;00m p_name \u001b[38;5;129;01min\u001b[39;00m wrapper_params)\n\u001b[0;32m---> 84\u001b[0m \u001b[38;5;28;01mif\u001b[39;00m \u001b[43mparams\u001b[49m\u001b[43m[\u001b[49m\u001b[38;5;241;43m-\u001b[39;49m\u001b[38;5;241;43m1\u001b[39;49m\u001b[43m]\u001b[49m\u001b[38;5;241m.\u001b[39mkind\u001b[38;5;241m.\u001b[39mname \u001b[38;5;241m==\u001b[39m \u001b[38;5;124m\"\u001b[39m\u001b[38;5;124mVAR_KEYWORD\u001b[39m\u001b[38;5;124m\"\u001b[39m: \u001b[38;5;66;03m# f(any_args, **kwargs)\u001b[39;00m\n\u001b[1;32m     85\u001b[0m     params_full \u001b[38;5;241m=\u001b[39m (\u001b[38;5;241m*\u001b[39mparams[:\u001b[38;5;241m-\u001b[39m\u001b[38;5;241m1\u001b[39m], \u001b[38;5;241m*\u001b[39mparams_extra, params[\u001b[38;5;241m-\u001b[39m\u001b[38;5;241m1\u001b[39m])\n\u001b[1;32m     86\u001b[0m \u001b[38;5;28;01melse\u001b[39;00m:\n",
      "\u001b[0;31mIndexError\u001b[0m: tuple index out of range"
     ]
    }
   ],
   "source": [
    "@savedata\n",
    "def ex():\n",
    "    return 2"
   ]
  },
  {
   "cell_type": "code",
   "execution_count": 5,
   "id": "df2fd453",
   "metadata": {},
   "outputs": [
    {
     "ename": "IndexError",
     "evalue": "tuple index out of range",
     "output_type": "error",
     "traceback": [
      "\u001b[0;31m---------------------------------------------------------------------------\u001b[0m",
      "\u001b[0;31mIndexError\u001b[0m                                Traceback (most recent call last)",
      "Input \u001b[0;32mIn [5]\u001b[0m, in \u001b[0;36m<cell line: 3>\u001b[0;34m()\u001b[0m\n\u001b[1;32m      1\u001b[0m \u001b[38;5;28;01mfrom\u001b[39;00m \u001b[38;5;21;01mtidypath\u001b[39;00m \u001b[38;5;28;01mimport\u001b[39;00m savefig, savedata\n\u001b[1;32m      3\u001b[0m \u001b[38;5;129;43m@savefig\u001b[39;49m\n\u001b[0;32m----> 4\u001b[0m \u001b[38;5;28;43;01mdef\u001b[39;49;00m\u001b[43m \u001b[49m\u001b[38;5;21;43mex\u001b[39;49m\u001b[43m(\u001b[49m\u001b[43m)\u001b[49m\u001b[43m:\u001b[49m\n\u001b[1;32m      5\u001b[0m \u001b[43m    \u001b[49m\u001b[38;5;28;43;01mreturn\u001b[39;49;00m\u001b[43m \u001b[49m\u001b[38;5;28;43;01mNone\u001b[39;49;00m\n",
      "File \u001b[0;32m~/anaconda3/envs/latest/lib/python3.10/site-packages/tidypath/decorators.py:174\u001b[0m, in \u001b[0;36msavefig\u001b[0;34m(keys_or_function, ext, include_classes, return_fig, keys, overwrite, save, **save_opts)\u001b[0m\n\u001b[1;32m    172\u001b[0m     \u001b[38;5;28;01mreturn\u001b[39;00m _savefig\n\u001b[1;32m    173\u001b[0m \u001b[38;5;28;01melse\u001b[39;00m:\n\u001b[0;32m--> 174\u001b[0m     \u001b[38;5;28;01mreturn\u001b[39;00m \u001b[43m_savefig\u001b[49m\u001b[43m(\u001b[49m\u001b[43mfunc\u001b[49m\u001b[43m)\u001b[49m\n",
      "File \u001b[0;32m~/anaconda3/envs/latest/lib/python3.10/site-packages/tidypath/decorators.py:167\u001b[0m, in \u001b[0;36msavefig.<locals>._savefig\u001b[0;34m(func)\u001b[0m\n\u001b[1;32m    164\u001b[0m     \u001b[38;5;28;01melse\u001b[39;00m:\n\u001b[1;32m    165\u001b[0m         \u001b[38;5;28;01mreturn\u001b[39;00m\n\u001b[0;32m--> 167\u001b[0m wrapper\u001b[38;5;241m.\u001b[39m__signature__ \u001b[38;5;241m=\u001b[39m \u001b[43mmerge_wrapper_signatures\u001b[49m\u001b[43m(\u001b[49m\u001b[43mwrapper\u001b[49m\u001b[43m,\u001b[49m\u001b[43m \u001b[49m\u001b[43m[\u001b[49m\u001b[38;5;124;43m\"\u001b[39;49m\u001b[38;5;124;43moverwrite\u001b[39;49m\u001b[38;5;124;43m\"\u001b[39;49m\u001b[43m,\u001b[49m\u001b[43m \u001b[49m\u001b[38;5;124;43m\"\u001b[39;49m\u001b[38;5;124;43mkeys\u001b[39;49m\u001b[38;5;124;43m\"\u001b[39;49m\u001b[43m,\u001b[49m\u001b[43m \u001b[49m\u001b[38;5;124;43m\"\u001b[39;49m\u001b[38;5;124;43msave\u001b[39;49m\u001b[38;5;124;43m\"\u001b[39;49m\u001b[43m,\u001b[49m\u001b[43m \u001b[49m\u001b[38;5;124;43m\"\u001b[39;49m\u001b[38;5;124;43mreturn_fig\u001b[39;49m\u001b[38;5;124;43m\"\u001b[39;49m\u001b[43m]\u001b[49m\u001b[43m)\u001b[49m\n\u001b[1;32m    168\u001b[0m wrapper\u001b[38;5;241m.\u001b[39m__out__ \u001b[38;5;241m=\u001b[39m \u001b[38;5;124m\"\u001b[39m\u001b[38;5;124mfigure\u001b[39m\u001b[38;5;124m\"\u001b[39m\n\u001b[1;32m    169\u001b[0m \u001b[38;5;28;01mreturn\u001b[39;00m wrapper\n",
      "File \u001b[0;32m~/anaconda3/envs/latest/lib/python3.10/site-packages/tidypath/inspection.py:84\u001b[0m, in \u001b[0;36mmerge_wrapper_signatures\u001b[0;34m(wrapper, wrapper_params)\u001b[0m\n\u001b[1;32m     82\u001b[0m params \u001b[38;5;241m=\u001b[39m \u001b[38;5;28mtuple\u001b[39m(sig\u001b[38;5;241m.\u001b[39mparameters\u001b[38;5;241m.\u001b[39mvalues())\n\u001b[1;32m     83\u001b[0m params_extra \u001b[38;5;241m=\u001b[39m \u001b[38;5;28mtuple\u001b[39m(p \u001b[38;5;28;01mfor\u001b[39;00m p_name, p \u001b[38;5;129;01min\u001b[39;00m sigw\u001b[38;5;241m.\u001b[39mparameters\u001b[38;5;241m.\u001b[39mitems() \u001b[38;5;28;01mif\u001b[39;00m p_name \u001b[38;5;129;01min\u001b[39;00m wrapper_params)\n\u001b[0;32m---> 84\u001b[0m \u001b[38;5;28;01mif\u001b[39;00m \u001b[43mparams\u001b[49m\u001b[43m[\u001b[49m\u001b[38;5;241;43m-\u001b[39;49m\u001b[38;5;241;43m1\u001b[39;49m\u001b[43m]\u001b[49m\u001b[38;5;241m.\u001b[39mkind\u001b[38;5;241m.\u001b[39mname \u001b[38;5;241m==\u001b[39m \u001b[38;5;124m\"\u001b[39m\u001b[38;5;124mVAR_KEYWORD\u001b[39m\u001b[38;5;124m\"\u001b[39m: \u001b[38;5;66;03m# f(any_args, **kwargs)\u001b[39;00m\n\u001b[1;32m     85\u001b[0m     params_full \u001b[38;5;241m=\u001b[39m (\u001b[38;5;241m*\u001b[39mparams[:\u001b[38;5;241m-\u001b[39m\u001b[38;5;241m1\u001b[39m], \u001b[38;5;241m*\u001b[39mparams_extra, params[\u001b[38;5;241m-\u001b[39m\u001b[38;5;241m1\u001b[39m])\n\u001b[1;32m     86\u001b[0m \u001b[38;5;28;01melse\u001b[39;00m:\n",
      "\u001b[0;31mIndexError\u001b[0m: tuple index out of range"
     ]
    }
   ],
   "source": [
    "from tidypath import savefig, savedata\n",
    "\n",
    "@savefig\n",
    "def ex():\n",
    "    return None"
   ]
  },
  {
   "cell_type": "markdown",
   "id": "89e54b3b",
   "metadata": {},
   "source": [
    "# Clean folder"
   ]
  },
  {
   "cell_type": "code",
   "execution_count": 2,
   "id": "cde1bc51",
   "metadata": {},
   "outputs": [],
   "source": [
    "# To view how tidypath creates the files and directory, we first delete the existing ones.\n",
    "from pathlib import Path\n",
    "import shutil \n",
    "\n",
    "for directory in [\"data\", \"figs\"]:\n",
    "    if Path(directory).exists():\n",
    "        shutil.rmtree(directory)"
   ]
  },
  {
   "cell_type": "markdown",
   "id": "d5c105c0",
   "metadata": {},
   "source": [
    "# Proyect structure"
   ]
  },
  {
   "cell_type": "code",
   "execution_count": 3,
   "id": "ae02c69a",
   "metadata": {},
   "outputs": [
    {
     "ename": "ModuleNotFoundError",
     "evalue": "No module named 'matplotlib'",
     "output_type": "error",
     "traceback": [
      "\u001b[0;31m---------------------------------------------------------------------------\u001b[0m",
      "\u001b[0;31mModuleNotFoundError\u001b[0m                       Traceback (most recent call last)",
      "Input \u001b[0;32mIn [3]\u001b[0m, in \u001b[0;36m<cell line: 3>\u001b[0;34m()\u001b[0m\n\u001b[1;32m      1\u001b[0m \u001b[38;5;66;03m# Check at the end the structure that is created\u001b[39;00m\n\u001b[1;32m      2\u001b[0m \u001b[38;5;66;03m# Check the module analysis.variable1.measurement1 to see the syntax\u001b[39;00m\n\u001b[0;32m----> 3\u001b[0m \u001b[38;5;28;01mfrom\u001b[39;00m \u001b[38;5;21;01manalysis\u001b[39;00m\u001b[38;5;21;01m.\u001b[39;00m\u001b[38;5;21;01mvariable1\u001b[39;00m \u001b[38;5;28;01mimport\u001b[39;00m measurement1\n\u001b[1;32m      4\u001b[0m \u001b[38;5;28;01mimport\u001b[39;00m \u001b[38;5;21;01mos\u001b[39;00m \n\u001b[1;32m      5\u001b[0m \u001b[38;5;28;01mdef\u001b[39;00m \u001b[38;5;21mlist_files\u001b[39m(startpath):\n",
      "File \u001b[0;32m~/Documents/Programming/tidypath/tests/analysis/__init__.py:1\u001b[0m, in \u001b[0;36m<module>\u001b[0;34m\u001b[0m\n\u001b[0;32m----> 1\u001b[0m \u001b[38;5;28;01mfrom\u001b[39;00m \u001b[38;5;21;01m.\u001b[39;00m \u001b[38;5;28;01mimport\u001b[39;00m variable1\n",
      "File \u001b[0;32m~/Documents/Programming/tidypath/tests/analysis/variable1/__init__.py:1\u001b[0m, in \u001b[0;36m<module>\u001b[0;34m\u001b[0m\n\u001b[0;32m----> 1\u001b[0m \u001b[38;5;28;01mfrom\u001b[39;00m \u001b[38;5;21;01m.\u001b[39;00m \u001b[38;5;28;01mimport\u001b[39;00m measurement1\n",
      "File \u001b[0;32m~/Documents/Programming/tidypath/tests/analysis/variable1/measurement1.py:2\u001b[0m, in \u001b[0;36m<module>\u001b[0;34m\u001b[0m\n\u001b[1;32m      1\u001b[0m \u001b[38;5;28;01mimport\u001b[39;00m \u001b[38;5;21;01mnumpy\u001b[39;00m \u001b[38;5;28;01mas\u001b[39;00m \u001b[38;5;21;01mnp\u001b[39;00m\n\u001b[0;32m----> 2\u001b[0m \u001b[38;5;28;01mimport\u001b[39;00m \u001b[38;5;21;01mmatplotlib\u001b[39;00m\u001b[38;5;21;01m.\u001b[39;00m\u001b[38;5;21;01mpyplot\u001b[39;00m \u001b[38;5;28;01mas\u001b[39;00m \u001b[38;5;21;01mplt\u001b[39;00m\n\u001b[1;32m      3\u001b[0m \u001b[38;5;28;01mfrom\u001b[39;00m \u001b[38;5;21;01mtidypath\u001b[39;00m \u001b[38;5;28;01mimport\u001b[39;00m savedata, savefig\n\u001b[1;32m      5\u001b[0m \u001b[38;5;129m@savedata\u001b[39m(\u001b[38;5;124m\"\u001b[39m\u001b[38;5;124mx+z+kwargs\u001b[39m\u001b[38;5;124m\"\u001b[39m)\n\u001b[1;32m      6\u001b[0m \u001b[38;5;28;01mdef\u001b[39;00m \u001b[38;5;21mslow_computation\u001b[39m(x, y, \u001b[38;5;241m*\u001b[39margs, z\u001b[38;5;241m=\u001b[39m\u001b[38;5;241m1\u001b[39m, \u001b[38;5;241m*\u001b[39m\u001b[38;5;241m*\u001b[39mkwargs):\n",
      "\u001b[0;31mModuleNotFoundError\u001b[0m: No module named 'matplotlib'"
     ]
    }
   ],
   "source": [
    "# Check at the end the structure that is created\n",
    "# Check the module analysis.variable1.measurement1 to see the syntax\n",
    "from analysis.variable1 import measurement1\n",
    "import os \n",
    "def list_files(startpath):\n",
    "    \"\"\"https://stackoverflow.com/questions/9727673/list-directory-tree-structure-in-python\"\"\"\n",
    "    for root, dirs, files in os.walk(startpath):\n",
    "        level = root.replace(startpath, '').count(os.sep)\n",
    "        indent = ' ' * 4 * (level)\n",
    "        print('{}{}/'.format(indent, os.path.basename(root)))\n",
    "        subindent = ' ' * 4 * (level + 1)\n",
    "        for f in files:\n",
    "            print('{}{}'.format(subindent, f))"
   ]
  },
  {
   "cell_type": "code",
   "execution_count": 35,
   "id": "c7ca9b57",
   "metadata": {},
   "outputs": [
    {
     "data": {
      "text/plain": [
       "['.ipynb_checkpoints', 'Example.ipynb', 'analysis']"
      ]
     },
     "execution_count": 35,
     "metadata": {},
     "output_type": "execute_result"
    }
   ],
   "source": [
    "# Initial situation: No 'data' or 'figs' directory. \n",
    "os.listdir(\".\")"
   ]
  },
  {
   "cell_type": "code",
   "execution_count": 36,
   "id": "fd242bbd",
   "metadata": {},
   "outputs": [],
   "source": [
    "# Computing and storing data\n",
    "# slow_computation encodes \"x+z+kwargs\" into the filename.\n",
    "X = measurement1.slow_computation(1, 0, z=10, extra=\"b\", other=\"some\")"
   ]
  },
  {
   "cell_type": "code",
   "execution_count": 37,
   "id": "1db33280",
   "metadata": {},
   "outputs": [
    {
     "data": {
      "image/png": "[encoded data removed]",
      "text/plain": [
       "<Figure size 1008x504 with 1 Axes>"
      ]
     },
     "execution_count": 37,
     "metadata": {},
     "output_type": "execute_result"
    }
   ],
   "source": [
    "# Figure plot: \n",
    "# 1. Call func for data to plot. If associated file exists => load cached file.\n",
    "#                                else                      => compute it and store it.\n",
    "# 2. Plot figure and store it.\n",
    "measurement1.plot_slow_computation(1, 0, z=10, extra=\"b\", return_fig=True) "
   ]
  },
  {
   "cell_type": "code",
   "execution_count": 6,
   "id": "131cfecc",
   "metadata": {},
   "outputs": [
    {
     "name": "stdout",
     "output_type": "stream",
     "text": [
      "data/\n",
      "    variable1/\n",
      "        measurement1/\n",
      "            slow_computation/\n",
      "                extra-b_x-1_z-10_.lzma\n",
      "                extra-b_other-some_x-1_z-10_.lzma\n",
      "figs/\n",
      "    variable1/\n",
      "        measurement1/\n",
      "            plot_slow_computation/\n",
      "                extra-b_z-10_.png\n"
     ]
    }
   ],
   "source": [
    "# Verify files stored at the correct location\n",
    "list_files(\"data\")\n",
    "list_files(\"figs\") # notice keyword-only argument z is included in kwargs (also pos_or_kwd with a default option)"
   ]
  },
  {
   "cell_type": "code",
   "execution_count": 7,
   "id": "3898e0fa",
   "metadata": {},
   "outputs": [
    {
     "data": {
      "text/plain": [
       "(<Signature (x, y, *args, z=1, overwrite=False, keys='x+z+kwargs', save=True, **kwargs)>,\n",
       " <Signature (*args, overwrite=True, keys='kwargs', save=True, return_fig=False, **kwargs)>)"
      ]
     },
     "execution_count": 7,
     "metadata": {},
     "output_type": "execute_result"
    }
   ],
   "source": [
    "from inspect import signature\n",
    "# Verify extra arguments included in the function. Compare the signatures with the ones defined at analysis/variable1/measurement1.py\n",
    "# savedata  =>   ('overwrite', 'keys', 'save') \n",
    "# savefig   =>   ('overwrite', 'keys', 'save', 'return_fig')\n",
    "signature(measurement1.slow_computation), signature(measurement1.plot_slow_computation)"
   ]
  },
  {
   "cell_type": "markdown",
   "id": "1002a0dc",
   "metadata": {},
   "source": [
    "# Adding/deleting/modifying args in filenames"
   ]
  },
  {
   "cell_type": "code",
   "execution_count": 8,
   "id": "e0e8a81c",
   "metadata": {},
   "outputs": [
    {
     "data": {
      "text/plain": [
       "['extra-b_x-1_z-10_.lzma', 'extra-b_other-some_x-1_z-10_.lzma']"
      ]
     },
     "execution_count": 8,
     "metadata": {},
     "output_type": "execute_result"
    }
   ],
   "source": [
    "from tidypath import add_arg, delete_arg, modify_arg\n",
    "\n",
    "pdir = \"data/variable1/measurement1/slow_computation/\"\n",
    "os.listdir(pdir)"
   ]
  },
  {
   "cell_type": "code",
   "execution_count": 9,
   "id": "11252431",
   "metadata": {},
   "outputs": [
    {
     "name": "stdout",
     "output_type": "stream",
     "text": [
      "Filename change example:\n",
      "'extra-b_x-1_z-10_.lzma' -> 'arg1-some_extra-b_x-1_z-10_.lzma'\n",
      "Proceed? [y/n]y\n",
      "Filename change example:\n",
      "'arg1-some_extra-b_other-some_x-1_z-10_.lzma' -> 'arg1-some_arg2-None_extra-b_other-some_x-1_z-10_.lzma'\n",
      "Proceed? [y/n]y\n"
     ]
    }
   ],
   "source": [
    "add_arg(measurement1.slow_computation, arg1=\"some\", arg2=None)"
   ]
  },
  {
   "cell_type": "code",
   "execution_count": 10,
   "id": "718f621c",
   "metadata": {},
   "outputs": [
    {
     "data": {
      "text/plain": [
       "['arg1-some_arg2-None_extra-b_other-some_x-1_z-10_.lzma',\n",
       " 'arg1-some_arg2-None_extra-b_x-1_z-10_.lzma']"
      ]
     },
     "execution_count": 10,
     "metadata": {},
     "output_type": "execute_result"
    }
   ],
   "source": [
    "os.listdir(pdir)"
   ]
  },
  {
   "cell_type": "code",
   "execution_count": 11,
   "id": "3ef9a407",
   "metadata": {},
   "outputs": [
    {
     "name": "stdout",
     "output_type": "stream",
     "text": [
      "Filename change example:\n",
      "'arg1-some_arg2-None_extra-b_other-some_x-1_z-10_.lzma' -> 'arg2-None_extra-b_other-some_x-1_z-10_.lzma'\n",
      "Proceed? [y/n]y\n",
      "Filename change example:\n",
      "'arg2-None_extra-b_x-1_z-10_.lzma' -> 'extra-b_x-1_z-10_.lzma'\n",
      "Proceed? [y/n]y\n"
     ]
    }
   ],
   "source": [
    "delete_arg(measurement1.slow_computation, arg=[\"arg2\", \"arg1\"])"
   ]
  },
  {
   "cell_type": "code",
   "execution_count": 12,
   "id": "e9b3baf1",
   "metadata": {},
   "outputs": [
    {
     "data": {
      "text/plain": [
       "['extra-b_x-1_z-10_.lzma', 'extra-b_other-some_x-1_z-10_.lzma']"
      ]
     },
     "execution_count": 12,
     "metadata": {},
     "output_type": "execute_result"
    }
   ],
   "source": [
    "os.listdir(pdir)"
   ]
  },
  {
   "cell_type": "code",
   "execution_count": 13,
   "id": "7f90fcdd",
   "metadata": {},
   "outputs": [
    {
     "name": "stdout",
     "output_type": "stream",
     "text": [
      "Filename change example:\n",
      "'extra-b_x-1_z-10_.lzma' -> 'extra-b_x-1st-2nd_z-10_.lzma'\n",
      "Proceed? [y/n]y\n"
     ]
    }
   ],
   "source": [
    "modify_arg(measurement1.slow_computation, x=[\"1st\", \"2nd\"])"
   ]
  },
  {
   "cell_type": "code",
   "execution_count": 14,
   "id": "46cdf532",
   "metadata": {},
   "outputs": [
    {
     "data": {
      "text/plain": [
       "['extra-b_other-some_x-1st-2nd_z-10_.lzma', 'extra-b_x-1st-2nd_z-10_.lzma']"
      ]
     },
     "execution_count": 14,
     "metadata": {},
     "output_type": "execute_result"
    }
   ],
   "source": [
    "os.listdir(pdir)"
   ]
  }
 ],
 "metadata": {
  "kernelspec": {
   "display_name": "Python 3 (ipykernel)",
   "language": "python",
   "name": "python3"
  },
  "language_info": {
   "codemirror_mode": {
    "name": "ipython",
    "version": 3
   },
   "file_extension": ".py",
   "mimetype": "text/x-python",
   "name": "python",
   "nbconvert_exporter": "python",
   "pygments_lexer": "ipython3",
   "version": "3.10.4"
  },
  "toc": {
   "base_numbering": 1,
   "nav_menu": {},
   "number_sections": true,
   "sideBar": true,
   "skip_h1_title": false,
   "title_cell": "Table of Contents",
   "title_sidebar": "Contents",
   "toc_cell": false,
   "toc_position": {},
   "toc_section_display": true,
   "toc_window_display": false
  }
 },
 "nbformat": 4,
 "nbformat_minor": 5
}
