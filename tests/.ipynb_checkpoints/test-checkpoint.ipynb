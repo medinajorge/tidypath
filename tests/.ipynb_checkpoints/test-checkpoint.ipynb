{
 "cells": [
  {
   "cell_type": "markdown",
   "id": "d5c105c0",
   "metadata": {},
   "source": [
    "# Proyect structure"
   ]
  },
  {
   "cell_type": "code",
   "execution_count": 1,
   "id": "ae02c69a",
   "metadata": {},
   "outputs": [],
   "source": [
    "# Check at the end the structure that is created\n",
    "# Check the module analysis.variable1.measurement1 to see the syntax\n",
    "from analysis.variable1 import measurement1\n",
    "import os \n",
    "def list_files(startpath):\n",
    "    \"\"\"https://stackoverflow.com/questions/9727673/list-directory-tree-structure-in-python\"\"\"\n",
    "    for root, dirs, files in os.walk(startpath):\n",
    "        level = root.replace(startpath, '').count(os.sep)\n",
    "        indent = ' ' * 4 * (level)\n",
    "        print('{}{}/'.format(indent, os.path.basename(root)))\n",
    "        subindent = ' ' * 4 * (level + 1)\n",
    "        for f in files:\n",
    "            print('{}{}'.format(subindent, f))"
   ]
  },
  {
   "cell_type": "code",
   "execution_count": 2,
   "id": "fd242bbd",
   "metadata": {},
   "outputs": [],
   "source": [
    "# Computing and storing data\n",
    "# slow_computation encodes \"x+z+kwargs\" into the filename.\n",
    "X = measurement1.slow_computation(1, 0, z=10, extra=\"b\", other=\"some\")"
   ]
  },
  {
   "cell_type": "code",
   "execution_count": 3,
   "id": "1db33280",
   "metadata": {},
   "outputs": [
    {
     "data": {
      "image/png": "[encoded data removed]",
      "text/plain": [
       "<Figure size 1008x504 with 1 Axes>"
      ]
     },
     "metadata": {
      "needs_background": "light"
     },
     "output_type": "display_data"
    }
   ],
   "source": [
    "# Figure plot: \n",
    "# 1. Call func for data to plot. If associated file exists => load cached file.\n",
    "#                                else                      => compute it and store it.\n",
    "# 2. Plot figure and store it.\n",
    "measurement1.plot_slow_computation(1, 0, z=10, extra=\"b\") "
   ]
  },
  {
   "cell_type": "code",
   "execution_count": 4,
   "id": "131cfecc",
   "metadata": {},
   "outputs": [
    {
     "name": "stdout",
     "output_type": "stream",
     "text": [
      "data/\n",
      "    <cell line: 1>/\n",
      "    variable1/\n",
      "        measurement1/\n",
      "            plot_slow_computation/\n",
      "            slow_computation/\n",
      "                extra-b_x-1_z-10_.lzma\n",
      "                extra-b_other-some_x-1_z-10_.lzma\n",
      "figs/\n",
      "    variable1/\n",
      "        measurement1/\n",
      "            plot_slow_computation/\n",
      "                extra-b_z-10_.png\n"
     ]
    }
   ],
   "source": [
    "# Verify files stored at the correct location\n",
    "list_files(\"data\")\n",
    "list_files(\"figs\") # notice keyword-only argument z is included in kwargs (also pos_or_kwd with a default option)"
   ]
  },
  {
   "cell_type": "code",
   "execution_count": 5,
   "id": "3898e0fa",
   "metadata": {},
   "outputs": [
    {
     "data": {
      "text/plain": [
       "(<Signature (x, y, *args, z=1, overwrite=False, keys='x+z+kwargs', save=True, **kwargs)>,\n",
       " <Signature (*args, overwrite=True, keys='kwargs', save=True, return_fig=False, **kwargs)>)"
      ]
     },
     "execution_count": 5,
     "metadata": {},
     "output_type": "execute_result"
    }
   ],
   "source": [
    "from inspect import signature\n",
    "# Verify extra arguments included in the function. Compare the signatures with the ones defined at analysis/variable1/measurement1.py\n",
    "# savedata  =>   ('overwrite', 'keys', 'save') \n",
    "# savefig   =>   ('overwrite', 'keys', 'save', 'return_fig')\n",
    "signature(measurement1.slow_computation), signature(measurement1.plot_slow_computation)"
   ]
  },
  {
   "cell_type": "markdown",
   "id": "1002a0dc",
   "metadata": {},
   "source": [
    "# Adding/deleting/modifying args in filenames"
   ]
  },
  {
   "cell_type": "code",
   "execution_count": 6,
   "id": "e0e8a81c",
   "metadata": {},
   "outputs": [
    {
     "data": {
      "text/plain": [
       "['extra-b_x-1_z-10_.lzma', 'extra-b_other-some_x-1_z-10_.lzma']"
      ]
     },
     "execution_count": 6,
     "metadata": {},
     "output_type": "execute_result"
    }
   ],
   "source": [
    "from tidypath import add_arg, delete_arg, modify_arg\n",
    "\n",
    "pdir = \"data/variable1/measurement1/slow_computation/\"\n",
    "os.listdir(pdir)"
   ]
  },
  {
   "cell_type": "code",
   "execution_count": 7,
   "id": "11252431",
   "metadata": {},
   "outputs": [
    {
     "name": "stdout",
     "output_type": "stream",
     "text": [
      "Filename change example:\n",
      "'extra-b_x-1_z-10_.lzma' -> 'arg1-some_extra-b_x-1_z-10_.lzma'\n",
      "Proceed? [y/n]y\n",
      "Filename change example:\n",
      "'arg1-some_extra-b_other-some_x-1_z-10_.lzma' -> 'arg1-some_arg2-None_extra-b_other-some_x-1_z-10_.lzma'\n",
      "Proceed? [y/n]y\n"
     ]
    }
   ],
   "source": [
    "add_arg(measurement1.slow_computation, arg1=\"some\", arg2=None)"
   ]
  },
  {
   "cell_type": "code",
   "execution_count": 8,
   "id": "718f621c",
   "metadata": {},
   "outputs": [
    {
     "data": {
      "text/plain": [
       "['arg1-some_arg2-None_extra-b_other-some_x-1_z-10_.lzma',\n",
       " 'arg1-some_arg2-None_extra-b_x-1_z-10_.lzma']"
      ]
     },
     "execution_count": 8,
     "metadata": {},
     "output_type": "execute_result"
    }
   ],
   "source": [
    "os.listdir(pdir)"
   ]
  },
  {
   "cell_type": "code",
   "execution_count": 9,
   "id": "3ef9a407",
   "metadata": {},
   "outputs": [
    {
     "name": "stdout",
     "output_type": "stream",
     "text": [
      "Filename change example:\n",
      "'arg1-some_arg2-None_extra-b_other-some_x-1_z-10_.lzma' -> 'arg2-None_extra-b_other-some_x-1_z-10_.lzma'\n",
      "Proceed? [y/n]y\n",
      "Filename change example:\n",
      "'arg2-None_extra-b_x-1_z-10_.lzma' -> 'extra-b_x-1_z-10_.lzma'\n",
      "Proceed? [y/n]y\n"
     ]
    }
   ],
   "source": [
    "delete_arg(measurement1.slow_computation, arg=[\"arg2\", \"arg1\"])"
   ]
  },
  {
   "cell_type": "code",
   "execution_count": 10,
   "id": "e9b3baf1",
   "metadata": {},
   "outputs": [
    {
     "data": {
      "text/plain": [
       "['extra-b_x-1_z-10_.lzma', 'extra-b_other-some_x-1_z-10_.lzma']"
      ]
     },
     "execution_count": 10,
     "metadata": {},
     "output_type": "execute_result"
    }
   ],
   "source": [
    "os.listdir(pdir)"
   ]
  },
  {
   "cell_type": "code",
   "execution_count": 11,
   "id": "7f90fcdd",
   "metadata": {},
   "outputs": [
    {
     "name": "stdout",
     "output_type": "stream",
     "text": [
      "Filename change example:\n",
      "'extra-b_x-1_z-10_.lzma' -> 'extra-b_x-1st-2nd_z-10_.lzma'\n",
      "Proceed? [y/n]y\n"
     ]
    }
   ],
   "source": [
    "modify_arg(measurement1.slow_computation, x=[\"1st\", \"2nd\"])"
   ]
  },
  {
   "cell_type": "code",
   "execution_count": 12,
   "id": "46cdf532",
   "metadata": {},
   "outputs": [
    {
     "data": {
      "text/plain": [
       "['extra-b_other-some_x-1st-2nd_z-10_.lzma', 'extra-b_x-1st-2nd_z-10_.lzma']"
      ]
     },
     "execution_count": 12,
     "metadata": {},
     "output_type": "execute_result"
    }
   ],
   "source": [
    "os.listdir(pdir)"
   ]
  }
 ],
 "metadata": {
  "kernelspec": {
   "display_name": "Python 3 (ipykernel)",
   "language": "python",
   "name": "python3"
  },
  "language_info": {
   "codemirror_mode": {
    "name": "ipython",
    "version": 3
   },
   "file_extension": ".py",
   "mimetype": "text/x-python",
   "name": "python",
   "nbconvert_exporter": "python",
   "pygments_lexer": "ipython3",
   "version": "3.10.4"
  },
  "toc": {
   "base_numbering": 1,
   "nav_menu": {},
   "number_sections": true,
   "sideBar": true,
   "skip_h1_title": false,
   "title_cell": "Table of Contents",
   "title_sidebar": "Contents",
   "toc_cell": false,
   "toc_position": {},
   "toc_section_display": true,
   "toc_window_display": false
  }
 },
 "nbformat": 4,
 "nbformat_minor": 5
}
